#Create Virtul Environment
import os
os.environ['LD_PRELOAD'] = ''

!conda update -n base conda --yes

!conda create --name MyWebUIEnv python=3.9 --yes
!conda activate MyWebUIEnv
!conda install ipykernel --yes
!python -m ipykernel install --user --name=MyWebUIEnv

!conda env list

import os
os.environ['LD_PRELOAD'] = ''

!conda install -y -c conda-forge libunwind


%cd /home/studio-lab-user/sagemaker-studiolab-notebooks/myWebUI

#Remove all
!rm -r * 

#Install memfix
!curl -Lo memfix.zip https://github.com/nolanaatama/sd-webui/raw/main/memfix.zip
!unzip /home/studio-lab-user/sagemaker-studiolab-notebooks/myWebUI/memfix.zip

#Install fastapi
!pip install --upgrade fastapi==0.90.1
#Install torch
!pip install torch torchvision torchaudio torchtext torchdata --upgrade

#Install webui
!curl -Lo sd-webui.zip https://huggingface.co/nolanaatama/webui/resolve/main/sd-webui.zip
!unzip /home/studio-lab-user/sagemaker-studiolab-notebooks/myWebUI/sd-webui.zip
%cd /home/studio-lab-user/sagemaker-studiolab-notebooks/myWebUI/sd-webui/extensions
!unzip /home/studio-lab-user/sagemaker-studiolab-notebooks/myWebUI/sd-webui/extensions/sd-webui-images-browser.zip

%cd /home/studio-lab-user/sagemaker-studiolab-notebooks/myWebUI

# Model Code
!curl -Lo /home/studio-lab-user/sagemaker-studiolab-notebooks/myWebUI/sd-webui/models/Stable-diffusion/digitalFantasy_1.safetensors https://civitai.com/api/download/models/47778

#Install sd-webui
!conda remove -y -n MyWebUIEnv -c conda-forge sd-webui
!rm sd-webui.zip
!rm sd-webui-images-browser.zip
%cd /home/studio-lab-user/sagemaker-studiolab-notebooks/myWebUI/sd-webui
!git clone https://huggingface.co/nolanaatama/embeddings
%cd /home/studio-lab-user/sagemaker-studiolab-notebooks/myWebUI/sd-webui/models
!git clone https://huggingface.co/nolanaatama/ESRGAN


#CD to Home
%cd /home/studio-lab-user/sagemaker-studiolab-notebooks/myWebUI/sd-webui

#Install pycairo
!conda install -y -c conda-forge cairo
!pip install pycairo

#Install xformers
!pip install --pre xformers

#Launch WebUI
!COMMANDLINE_ARGS="--share --listen --enable-insecure-extension-access --disable-safe-unpickle --no-half-vae --xformers --gradio-queue --remotemoe" REQS_FILE="requirements.txt" python launch.py

